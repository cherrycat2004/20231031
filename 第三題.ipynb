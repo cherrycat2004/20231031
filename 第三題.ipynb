{
  "nbformat": 4,
  "nbformat_minor": 0,
  "metadata": {
    "colab": {
      "provenance": []
    },
    "kernelspec": {
      "name": "python3",
      "display_name": "Python 3"
    },
    "language_info": {
      "name": "python"
    }
  },
  "cells": [
    {
      "cell_type": "code",
      "execution_count": 1,
      "metadata": {
        "colab": {
          "base_uri": "https://localhost:8080/"
        },
        "id": "ze-fnvpqwbD1",
        "outputId": "6bf10f0e-0987-4d01-93a2-182f13e3f6e6"
      },
      "outputs": [
        {
          "output_type": "stream",
          "name": "stdout",
          "text": [
            "輸入：001011\n",
            "[11, 8, 5, 4, 3, 4]\n"
          ]
        }
      ],
      "source": [
        "def minOperation(boxes):\n",
        "  n = len(boxes)\n",
        "  answer = [0] * n\n",
        "  for i in range(n):\n",
        "    for j in range(n):\n",
        "      if boxes[j] == '1':\n",
        "        answer[i] += abs(i - j)\n",
        "  return answer\n",
        "\n",
        "a = input('輸入：')\n",
        "print(minOperation(list(a)))"
      ]
    }
  ]
}