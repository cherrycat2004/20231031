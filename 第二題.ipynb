{
  "nbformat": 4,
  "nbformat_minor": 0,
  "metadata": {
    "colab": {
      "provenance": []
    },
    "kernelspec": {
      "name": "python3",
      "display_name": "Python 3"
    },
    "language_info": {
      "name": "python"
    }
  },
  "cells": [
    {
      "cell_type": "code",
      "execution_count": 8,
      "metadata": {
        "colab": {
          "base_uri": "https://localhost:8080/"
        },
        "id": "k-AJ1YwqrzvE",
        "outputId": "a5e73f01-2e2a-4a7d-b306-312a6c060323"
      },
      "outputs": [
        {
          "output_type": "stream",
          "name": "stdout",
          "text": [
            "輸入數字，用逗號隔開4,5,7,9\n",
            "每個數字之前有多少小於他的數字 [0, 1, 2, 3]\n"
          ]
        }
      ],
      "source": [
        "user_input = input(\"輸入數字，用逗號隔開\")\n",
        "numbers = [int(num) for num in user_input.split(',')]\n",
        "count_smaller =[]\n",
        "for i in range (len (numbers)):\n",
        "  count = sum(1 for num in numbers[:i] if num < numbers[i])\n",
        "  count_smaller.append(count)\n",
        "\n",
        "print(\"每個數字之前有多少小於他的數字\", count_smaller)"
      ]
    }
  ]
}