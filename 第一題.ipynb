{
  "nbformat": 4,
  "nbformat_minor": 0,
  "metadata": {
    "colab": {
      "provenance": []
    },
    "kernelspec": {
      "name": "python3",
      "display_name": "Python 3"
    },
    "language_info": {
      "name": "python"
    }
  },
  "cells": [
    {
      "cell_type": "code",
      "execution_count": 6,
      "metadata": {
        "colab": {
          "base_uri": "https://localhost:8080/"
        },
        "id": "wQRD3n_YknPC",
        "outputId": "04ed1952-a44e-4a32-ed67-e1e88e7efabe"
      },
      "outputs": [
        {
          "output_type": "stream",
          "name": "stdout",
          "text": [
            "請輸入一個質數：63\n",
            "小於或等於 63 並且最接近的質數是 61\n"
          ]
        }
      ],
      "source": [
        "def is_prime(n):\n",
        "    if n <= 1:\n",
        "        return False\n",
        "    if n <= 3:\n",
        "        return True\n",
        "    if n % 2 == 0 or n % 3 == 0:\n",
        "        return False\n",
        "\n",
        "    i = 5\n",
        "    while i * i <= n:\n",
        "        if n % i == 0 or n % (i + 2) == 0:\n",
        "            return False\n",
        "        i += 6\n",
        "\n",
        "    return True\n",
        "\n",
        "def closest_prime(n):\n",
        "    if n <= 2:\n",
        "        return 2\n",
        "    if is_prime(n):\n",
        "        return n\n",
        "\n",
        "    lower = n - 1\n",
        "    upper = n + 1\n",
        "    while True:\n",
        "        if is_prime(lower):\n",
        "            return lower\n",
        "        if is_prime(upper):\n",
        "            return upper\n",
        "        lower -= 1\n",
        "        upper += 1\n",
        "\n",
        "num = int(input(\"請輸入一個質數：\"))\n",
        "if is_prime(num):\n",
        "    print(f\"{num} 是質數\")\n",
        "else:\n",
        "    closest = closest_prime(num)\n",
        "    print(f\"小於或等於 {num} 並且最接近的質數是 {closest}\")\n",
        "\n"
      ]
    }
  ]
}